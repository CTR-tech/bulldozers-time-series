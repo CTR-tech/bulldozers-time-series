{
 "cells": [
  {
   "attachments": {},
   "cell_type": "markdown",
   "metadata": {},
   "source": [
    "# Prediction the sale price of \"bulldozers\" using ML [Kaggle Challenge]\n",
    "\n",
    "This is an old challenge on Kaggle for bulldozer price prediction.\n",
    "\n",
    "## 1. Problem Definition\n",
    "> Can we accurately predict the sale price of bulldozers based on their characteristics and previous sales?\n",
    "## 2. Data\n",
    "\n",
    "Data URL: https://www.kaggle.com/competitions/bluebook-for-bulldozers/data\n",
    "\n",
    "The data for this competition is split into three parts:\n",
    "\n",
    "* `Train.csv` is the training set, which contains data through the end of 2011.\n",
    "* `Valid.csv` is the validation set, which contains data from January 1, 2012 - April 30, 2012 You make predictions on this set throughout the majority of the competition. Your score on this set is used to create the public leaderboard.\n",
    "* `Test.csv` is the test set, which won't be released until the last week of the competition. It contains data from May 1, 2012 - November 2012. Your score on the test set determines your final rank for the competition.\n",
    "\n",
    "\n",
    "## 3. Evaluation\n",
    "The evaluation metric for this competition is the `RMSLE` (root mean squared log error) between the actual and predicted auction prices.\n",
    "\n",
    "## 4. Features\n",
    "Info about the features can be found on the Kaggle page > Data Dictionary"
   ]
  },
  {
   "cell_type": "code",
   "execution_count": 1,
   "metadata": {},
   "outputs": [],
   "source": [
    "import numpy as np\n",
    "import pandas as pd\n",
    "import seaborn as sns\n",
    "import matplotlib.pyplot as plt\n",
    "%matplotlib inline\n",
    "import pickle\n",
    "import warnings\n",
    "warnings.filterwarnings(\"ignore\") "
   ]
  },
  {
   "cell_type": "code",
   "execution_count": null,
   "metadata": {},
   "outputs": [],
   "source": []
  }
 ],
 "metadata": {
  "kernelspec": {
   "display_name": "nenv",
   "language": "python",
   "name": "python3"
  },
  "language_info": {
   "codemirror_mode": {
    "name": "ipython",
    "version": 3
   },
   "file_extension": ".py",
   "mimetype": "text/x-python",
   "name": "python",
   "nbconvert_exporter": "python",
   "pygments_lexer": "ipython3",
   "version": "3.9.16"
  },
  "orig_nbformat": 4
 },
 "nbformat": 4,
 "nbformat_minor": 2
}
